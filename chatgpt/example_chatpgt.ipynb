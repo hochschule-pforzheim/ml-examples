{
  "nbformat": 4,
  "nbformat_minor": 0,
  "metadata": {
    "colab": {
      "provenance": [],
      "mount_file_id": "14aEvcSg8cFUele3ahr8ZAUxkm-8pBY55",
      "authorship_tag": "ABX9TyOVyrMyJtu96jpZgyzFL6S6",
      "include_colab_link": true
    },
    "kernelspec": {
      "name": "python3",
      "display_name": "Python 3"
    },
    "language_info": {
      "name": "python"
    }
  },
  "cells": [
    {
      "cell_type": "markdown",
      "metadata": {
        "id": "view-in-github",
        "colab_type": "text"
      },
      "source": [
        "<a href=\"https://colab.research.google.com/github/hochschule-pforzheim/ml-examples/blob/main/chatgpt/example_chatpgt.ipynb\" target=\"_parent\"><img src=\"https://colab.research.google.com/assets/colab-badge.svg\" alt=\"Open In Colab\"/></a>"
      ]
    },
    {
      "cell_type": "markdown",
      "source": [
        "# How to use ChatGPT in a notebook\n",
        "\n",
        "Hi there! This is just a simple notebook which demonstrates\n",
        "\n",
        "* how to call ChatGPT 👾 from the official OpenAI API,\n",
        "* let ChatGPT use some sample content provided by Google Colaboratory, and (`california_housing_train.csv`)\n",
        "* train a scikit model for a simple prediction.\n",
        "\n",
        "Have fun using and extending it. 🥳"
      ],
      "metadata": {
        "id": "pE02mSBFCkIF"
      }
    },
    {
      "cell_type": "markdown",
      "source": [
        "## Setup OpenAI API"
      ],
      "metadata": {
        "id": "YwzGgFrp8-Ln"
      }
    },
    {
      "cell_type": "code",
      "source": [
        "# install required python package\n",
        "pip install openai --upgrade\n"
      ],
      "metadata": {
        "id": "muP3cthJ6zy3"
      },
      "execution_count": null,
      "outputs": []
    },
    {
      "cell_type": "markdown",
      "source": [
        "In order to use ChatGPT (or other OpenAI models) you will need to provide an API key. Simply login to OpenAI and create a personal key from this page: [api keys](https://platform.openai.com/account/api-keys). Then just call the next two cells, enter it and make OpenAI using it."
      ],
      "metadata": {
        "id": "XTK1XNRsDVFb"
      }
    },
    {
      "cell_type": "code",
      "source": [
        "# use getpass to provide API key\n",
        "from getpass import getpass\n",
        "secret = getpass('Enter the secret value: ')"
      ],
      "metadata": {
        "id": "TRQdZSJO_iML"
      },
      "execution_count": null,
      "outputs": []
    },
    {
      "cell_type": "code",
      "source": [
        "from google.colab import userdata\n",
        "\n",
        "secret=userdata.get('OPENAI_API_KEY')"
      ],
      "metadata": {
        "id": "Co1zKvPgHfBK"
      },
      "execution_count": null,
      "outputs": []
    },
    {
      "cell_type": "code",
      "source": [
        "import openai\n",
        "\n",
        "openai.api_key = secret"
      ],
      "metadata": {
        "id": "bg3f1nWc7PtA"
      },
      "execution_count": null,
      "outputs": []
    },
    {
      "cell_type": "code",
      "source": [
        "from openai import OpenAI\n",
        "\n",
        "try:\n",
        "  client = OpenAI(\n",
        "    api_key=secret\n",
        "  )\n",
        "except userdata.SecretNotFoundError as e:\n",
        "   print(f'''Secret not found\\n\\nThis expects you to create a secret named {openai_api_secret_name} in Colab\\n\\nVisit https://platform.openai.com/api-keys to create an API key\\n\\nStore that in the secrets section on the left side of the notebook (key icon)\\n\\nName the secret {openai_api_secret_name}''')\n",
        "   raise e\n",
        "except userdata.NotebookAccessError as e:\n",
        "  print(f'''You need to grant this notebook access to the {openai_api_secret_name} secret in order for the notebook to access Gemini on your behalf.''')\n",
        "  raise e\n",
        "except Exception as e:\n",
        "  # unknown error\n",
        "  print(f\"There was an unknown error. Ensure you have a secret {openai_api_secret_name} stored in Colab and it's a valid key from https://platform.openai.com/api-keys\")\n",
        "  raise e"
      ],
      "metadata": {
        "id": "5UWaEAZrJikE"
      },
      "execution_count": null,
      "outputs": []
    },
    {
      "cell_type": "markdown",
      "source": [
        "Making a call to OpenAI API as described from their official [documentation](https://platform.openai.com/docs/api-reference/models/list)."
      ],
      "metadata": {
        "id": "SQ015mK5hF1o"
      }
    },
    {
      "cell_type": "code",
      "source": [
        "# Beispiel-Eingabe\n",
        "prompt = \"Once upon a time\"\n",
        "chatgpt_model = \"gpt-3.5-turbo-0125\"\n",
        "messages = [{\"role\": \"user\", \"content\": prompt}]\n",
        "\n",
        "# Anfrage an die Chat-Completion-API\n",
        "response = client.chat.completions.create(\n",
        "    model=chatgpt_model,\n",
        "    messages=messages,\n",
        "    max_tokens=1024,\n",
        "    n=1,\n",
        "    stop=None,\n",
        "    temperature=0.5,\n",
        ")\n",
        "\n",
        "# Ausgabe des Inhalts\n",
        "print(response.choices[0].message.content)"
      ],
      "metadata": {
        "id": "0D-dqS2E8uXF"
      },
      "execution_count": null,
      "outputs": []
    },
    {
      "cell_type": "markdown",
      "source": [
        "## Setting up ChatGPT\n",
        "So far so good... now let's connect with ChatGPT."
      ],
      "metadata": {
        "id": "wqJfM24cDRFn"
      }
    },
    {
      "cell_type": "code",
      "source": [
        "class ChatBot:\n",
        "    def __init__(self, initial_prompt: str, model=\"gpt-3.5-turbo-0125\"):\n",
        "        self.initial_prompt = initial_prompt\n",
        "        self.model = model\n",
        "        openai.api_key = secret\n",
        "\n",
        "    def __call__(self, prompt: str):\n",
        "        response = client.chat.completions.create(\n",
        "            model=self.model,\n",
        "            messages=[\n",
        "                {\"role\": \"system\", \"content\": self.initial_prompt},\n",
        "                {\"role\": \"user\", \"content\": prompt}\n",
        "            ]\n",
        "        )\n",
        "        return response.choices[0].message.content.strip()"
      ],
      "metadata": {
        "id": "2hTBzYVEO5cD"
      },
      "execution_count": null,
      "outputs": []
    },
    {
      "cell_type": "code",
      "source": [
        "from IPython.display import Markdown, display\n",
        "\n",
        "def display_markdown_output(output):\n",
        "    # Format the output string\n",
        "    formatted_output = output.replace(\"\\\\n\", \"\\n\")\n",
        "    display(Markdown(formatted_output))"
      ],
      "metadata": {
        "id": "HKpRFjArQHTG"
      },
      "execution_count": null,
      "outputs": []
    },
    {
      "cell_type": "markdown",
      "source": [
        "## Call your Bot\n",
        "Let's initialize our ChatGPT bot:"
      ],
      "metadata": {
        "id": "LqrcabGFD4p5"
      }
    },
    {
      "cell_type": "code",
      "source": [
        "chat_gpt = ChatBot(\"You are a chatbot imitating ChatGPT.\")\n",
        "chat_gpt(\"Tell me about yourself\")"
      ],
      "metadata": {
        "id": "nJGZfdfD7G-j"
      },
      "execution_count": null,
      "outputs": []
    },
    {
      "cell_type": "markdown",
      "source": [
        "Let's try and create a regression model with [scikit learn](https://scikit-learn.org/stable/index.html):"
      ],
      "metadata": {
        "id": "bsrTOGzXdM6-"
      }
    },
    {
      "cell_type": "code",
      "source": [
        "display_markdown_output(chat_gpt(\"Please create a python programm to train a regression model with scikit learn.\"))"
      ],
      "metadata": {
        "id": "szxYEu0Z7j_D"
      },
      "execution_count": null,
      "outputs": []
    },
    {
      "cell_type": "code",
      "source": [
        "# will it work? give it a try in this code cell"
      ],
      "metadata": {
        "id": "Lb8Fo4Xyda-f"
      },
      "execution_count": null,
      "outputs": []
    },
    {
      "cell_type": "markdown",
      "source": [
        "Now we could also let ChatGPT create some test data..."
      ],
      "metadata": {
        "id": "e6jsjJYngSvh"
      }
    },
    {
      "cell_type": "code",
      "source": [
        "chat_gpt(\"Please create a csv file as input to this code.\")"
      ],
      "metadata": {
        "id": "QxxVSOOa8AbU"
      },
      "execution_count": null,
      "outputs": []
    },
    {
      "cell_type": "markdown",
      "source": [
        "But wouldn't it be more interesting to train a model on \"real\" data? Let's try with some data and see how our model performs. First let ChatGPT create a short program to load a sample file provided by [Google Colab](https://colab.research.google.com/). We will try to use [pandas](https://pandas.pydata.org/) to handle data in a csv-file. Besides a couple of comments (made by ChatGPT), your output may look like this:\n",
        "\n",
        "```python\n",
        "# Import the necessary libraries\n",
        "import pandas as pd\n",
        "from google.colab import files\n",
        "\n",
        "# Load the data into a Pandas dataframe\n",
        "df = pd.read_csv('sample_data/california_housing_train.csv')\n",
        "\n",
        "# Print the first five rows of the data\n",
        "print(df.head())\n",
        "```\n",
        "\n",
        "If provided, you may remove an upload dialog (such as `uploaded = files.upload()` and possibly, you may need to add `sample_data/` to your path, to load the csv-file."
      ],
      "metadata": {
        "id": "NCT_40d4R6X7"
      }
    },
    {
      "cell_type": "code",
      "source": [
        "# call to let chatgpt create our data handling code\n",
        "chat_gpt(\"Please create a python programm to load the sample csv-file california_housing_train.csv provided by Google Colab.\")"
      ],
      "metadata": {
        "id": "0hGFRvk9APak"
      },
      "execution_count": null,
      "outputs": []
    },
    {
      "cell_type": "code",
      "source": [
        "# place your code (generated by ChatGPT) here\n"
      ],
      "metadata": {
        "id": "o0LvhqgUTj_k"
      },
      "execution_count": null,
      "outputs": []
    },
    {
      "cell_type": "code",
      "source": [
        "# Import the necessary libraries\n",
        "import pandas as pd\n",
        "from google.colab import files\n",
        "\n",
        "# Upload the file from your computer to Colab\n",
        "# uploaded = files.upload()\n",
        "\n",
        "# Load the data into a Pandas dataframe\n",
        "df = pd.read_csv('sample_data/california_housing_train.csv')\n",
        "\n",
        "# Print the first five rows of the data\n",
        "print(df.head())"
      ],
      "metadata": {
        "id": "loCYYhCzAk9Z"
      },
      "execution_count": null,
      "outputs": []
    },
    {
      "cell_type": "markdown",
      "source": [
        "Now let's train a model which is making use of our california housing dataframe."
      ],
      "metadata": {
        "id": "fXY7qZbSd3lr"
      }
    },
    {
      "cell_type": "code",
      "source": [
        "chat_gpt(\"Please create a python programm to train a regression model with scikit learn based on the california_housing_train.csv.\")"
      ],
      "metadata": {
        "id": "8ic-LsmCVknK"
      },
      "execution_count": null,
      "outputs": []
    },
    {
      "cell_type": "code",
      "source": [
        "import pandas as pd\n",
        "from sklearn.linear_model import LinearRegression\n",
        "from sklearn.model_selection import train_test_split\n",
        "\n",
        "# Separate the features and target variable\n",
        "X = df.drop('median_house_value', axis=1)\n",
        "y = df['median_house_value']\n",
        "\n",
        "# Split the dataset into training and testing sets\n",
        "X_train, X_test, y_train, y_test = train_test_split(X, y, random_state=42)\n",
        "\n",
        "# Create a Linear Regression model and fit it with the training data\n",
        "model = LinearRegression()\n",
        "model.fit(X_train, y_train)\n",
        "\n",
        "# Evaluate the model on the testing data\n",
        "score = model.score(X_test, y_test)\n",
        "\n",
        "# Print the R^2 score of the model\n",
        "print(\"R^2 Score:\", score)\n"
      ],
      "metadata": {
        "id": "2AzxQOo9chyD"
      },
      "execution_count": null,
      "outputs": []
    },
    {
      "cell_type": "markdown",
      "source": [
        "## Challenge Task\n",
        "\n",
        "You did it! 🌴🎉🥳\n",
        "\n",
        "Quite nice so far. But is that a good result? Ask yourself (and maybe ChatGPT 😃) how to further test and improve your model. Possible questions to think about:\n",
        "\n",
        "1. How to analyze input data? (preprocessing and visualization)\n",
        "1. How to test a machine learning model?\n",
        "1. What is a test data set?\n",
        "1. How to train other machine learning models?\n",
        "1. Which are possible In-/Outputs for ChatGPT?\n",
        "\n",
        "### Further reading\n",
        "\n",
        "- Overview of [OpenAI models](https://platform.openai.com/docs/models/overview)\n",
        "- machinelearningmastery-Blog: [How Do I Get Started?](https://machinelearningmastery.com/start-here/#process)\n",
        "- Open-Soruce library for machine learning: [scikit learn](https://scikit-learn.org/stable/index.html)\n",
        "- [ChatGPT4](https://openai.com/product/gpt-4)\n"
      ],
      "metadata": {
        "id": "uR1hmqzzct4Z"
      }
    }
  ]
}